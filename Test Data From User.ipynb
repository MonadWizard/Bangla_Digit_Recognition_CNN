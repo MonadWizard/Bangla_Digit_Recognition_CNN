{
 "cells": [
  {
   "cell_type": "code",
   "execution_count": null,
   "metadata": {},
   "outputs": [],
   "source": []
  },
  {
   "cell_type": "code",
   "execution_count": 16,
   "metadata": {},
   "outputs": [],
   "source": [
    "from PIL import Image \n",
    "import PIL.ImageOps\n",
    "import csv\n",
    "import numpy as np\n",
    "\n",
    "class Process:\n",
    "\n",
    "    def __init__(self,path,invert=False):\n",
    "        self.path = path\n",
    "        self.invert = invert\n",
    "        \n",
    "    def getData(self):\n",
    "        image = Image.open(self.path)\n",
    "        image = image.resize((28,28), Image.ANTIALIAS).convert('L')\n",
    "        if self.invert is False:\n",
    "            image = PIL.ImageOps.invert(image)\n",
    "            pixels = np.asarray(image)\n",
    "            pixels = pixels.reshape(-1,28,28,1)\n",
    "        else:\n",
    "            pixels = np.asarray(image)\n",
    "            pixels = pixels.reshape(-1,28,28,1) \n",
    "        return pixels"
   ]
  },
  {
   "cell_type": "markdown",
   "metadata": {},
   "source": [
    "# Load Model"
   ]
  },
  {
   "cell_type": "code",
   "execution_count": 17,
   "metadata": {},
   "outputs": [
    {
     "name": "stderr",
     "output_type": "stream",
     "text": [
      "C:\\Users\\shaha\\Anaconda3\\lib\\site-packages\\keras\\engine\\saving.py:304: UserWarning: Error in loading the saved optimizer state. As a result, your model is starting with a freshly initialized optimizer.\n",
      "  warnings.warn('Error in loading the saved optimizer '\n"
     ]
    }
   ],
   "source": [
    "from keras.models import load_model\n",
    "model = load_model('ISI+BNLikha+CMDB_9943.h5')"
   ]
  },
  {
   "cell_type": "code",
   "execution_count": 18,
   "metadata": {},
   "outputs": [
    {
     "data": {
      "text/plain": [
       "2"
      ]
     },
     "execution_count": 18,
     "metadata": {},
     "output_type": "execute_result"
    }
   ],
   "source": [
    "path = 'Capture.PNG'\n",
    "a = Process(path)\n",
    "a = a.getData()\n",
    "np.argmax(model.predict(a))"
   ]
  },
  {
   "cell_type": "code",
   "execution_count": null,
   "metadata": {},
   "outputs": [],
   "source": []
  }
 ],
 "metadata": {
  "kernelspec": {
   "display_name": "Python 3",
   "language": "python",
   "name": "python3"
  },
  "language_info": {
   "codemirror_mode": {
    "name": "ipython",
    "version": 3
   },
   "file_extension": ".py",
   "mimetype": "text/x-python",
   "name": "python",
   "nbconvert_exporter": "python",
   "pygments_lexer": "ipython3",
   "version": "3.6.5"
  }
 },
 "nbformat": 4,
 "nbformat_minor": 2
}
